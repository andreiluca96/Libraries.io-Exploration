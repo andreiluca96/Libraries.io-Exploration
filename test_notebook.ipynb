{
 "cells": [
  {
   "cell_type": "code",
   "execution_count": 5,
   "metadata": {
    "pycharm": {
     "is_executing": false
    }
   },
   "outputs": [
    {
     "name": "stdout",
     "output_type": "stream",
     "text": [
      "[Row(Keyword='react', count=36788), Row(Keyword='api', count=24728), Row(Keyword='javascript', count=23676), Row(Keyword='library', count=21238), Row(Keyword='laravel', count=20495), Row(Keyword='framework', count=19733), Row(Keyword='angular', count=18990), Row(Keyword='plugin', count=18054), Row(Keyword='test', count=17573), Row(Keyword='css', count=16400)]\n"
     ]
    }
   ],
   "source": [
    "import findspark\n",
    "from pyspark.sql import SparkSession\n",
    "import schemas\n",
    "from test import most_used_tags\n",
    "\n",
    "findspark.init()\n",
    "\n",
    "\n",
    "def init_spark():\n",
    "    spark = SparkSession.builder.appName(\"HelloWorld\").getOrCreate()\n",
    "    sc = spark.sparkContext\n",
    "    return spark, sc\n",
    "\n",
    "\n",
    "def main():\n",
    "    spark, sc = init_spark()\n",
    "    timestamp_format = 'YYYY-MM-DD HH:mm:ss z'\n",
    "    dummy_switch = '-1.4.0-2018-12-22'\n",
    "    # dummy_switch = '_dummy'\n",
    "\n",
    "    projects_path = f'Libraries.io-open-data-1.4.0/libraries/projects{dummy_switch}.csv'\n",
    "    projects = spark.read.csv(projects_path, header=True, timestampFormat=timestamp_format,\n",
    "                          schema=schemas.projects)\n",
    "    most_used_tags(projects)\n",
    "    # nums = sc.parallelize([1, 2, 3, 4])\n",
    "    # print(nums.map(lambda x: x * x).collect())\n",
    "    # dist_file = sc.textFile('Libraries.io-open-data-1.4.0.tar.gz', 5000)\n",
    "    # size = dist_file.map(lambda s: len(s)).reduce(lambda a, b: a+b)\n",
    "    # print(size)\n",
    "\n",
    "\n",
    "if __name__ == '__main__':\n",
    "    main()\n",
    "\n"
   ]
  },
  {
   "cell_type": "code",
   "execution_count": 16,
   "metadata": {},
   "outputs": [
    {
     "name": "stdout",
     "output_type": "stream",
     "text": [
      "[('C#', ['Newtonsoft.Json', 'EntityFramework', 'Microsoft.AspNet.Mvc', 'Microsoft.AspNet.Razor', 'Antlr', 'Microsoft.Net.Compilers', 'Microsoft.Owin', 'Owin', 'NUnit', 'Microsoft.Owin.Host.SystemWeb']), ('JavaScript', ['express', 'lodash', 'debug', 'body-parser', 'async', 'babel-core', 'ansi-regex', 'ansi-styles', 'chalk', 'balanced-match']), ('C++', ['nan', 'node-sass', 'bser', 'fb-watchman', 'therubyracer', 'unf_ext', 'bcrypt', 'uws', 'electron', 'facter']), ('Julia', ['Compat', 'Distributions', 'DataFrames', 'DataStructures', 'JSON', 'StatsBase', 'BinDeps', 'Reexport', 'PyCall', 'Colors']), ('C', ['ffi', 'fsevents', 'rb-fsevent', 'binding_of_caller', 'bcrypt', 'nio4r', 'numpy', 'bcrypt-ruby', 'psycopg2', 'redcarpet']), ('Objective-C', ['AFNetworking', 'SDWebImage', 'expo', 'MBProgressHUD', 'Masonry', 'cordova-plugin-splashscreen', 'babel-preset-expo', 'SVProgressHUD', 'Bolts', 'MJRefresh']), ('Swift', ['Alamofire', 'SwiftyJSON', 'ReactiveCocoa', 'RxSwift', 'SnapKit', 'Kingfisher', 'RxCocoa', 'ObjectMapper', 'Nimble', 'Quick/Nimble']), ('TypeScript', ['esprima', 'typescript', 'path-to-regexp', '@types/node', 'rxjs', '@angular/common', '@angular/core', '@angular/compiler', '@angular/platform-browser', '@angular/platform-browser-dynamic']), ('R', ['testthat', 'dplyr', 'stringr', 'httr', 'reshape2', 'tidyr', 'covr', 'lubridate', 'purrr', 'readr']), ('Scala', ['org.scala-lang:scala-library', 'org.scala-lang:scala-compiler', 'io.gatling.highcharts:gatling-charts-highcharts', 'org.scala-lang:scala-reflect', 's3_website', 'org.spark-project.spark:unused', 'org.scala-lang:scalap', 'com.twitter:chill-java', 'org.scala-lang:scala-actors', 'prisma']), ('PHP', ['phpunit/phpunit', 'psr/log', 'monolog/monolog', 'symfony/console', 'doctrine/inflector', 'laravel/framework', 'swiftmailer/swiftmailer', 'symfony/event-dispatcher', 'mockery/mockery', 'symfony/finder']), ('Ruby', ['rake', 'activesupport', 'i18n', 'rails', 'rack', 'activerecord', 'builder', 'rack-test', 'multi_json', 'activemodel']), ('Python', ['requests', 'Django', 'Flask', 'six', 'node-gyp', 'Jinja2', 'MarkupSafe', 'Werkzeug', 'gunicorn', 'pytest']), ('CoffeeScript', ['coffee-script-source', 'turbolinks', 'error-ex', 'esutils', 'is-arrayish', 'performance-now', 'ipaddr.js', 'dom-converter', 'coffee-script', 'pretty-error']), ('Java', ['json', 'thread_safe', 'nokogiri', 'junit:junit', 'mysql:mysql-connector-java', 'org.slf4j:slf4j-api', 'org.springframework.boot:spring-boot-starter-web', 'org.springframework.boot:spring-boot-starter-test', 'org.springframework:spring-webmvc', 'log4j:log4j'])]\n"
     ]
    }
   ],
   "source": [
    "spark, sc = init_spark()\n",
    "import pyspark.sql.functions as F\n",
    "dependencies_path = f'Libraries.io-open-data-1.4.0/libraries/dependencies-1.4.0-2018-12-22.csv'\n",
    "projects_path = f'Libraries.io-open-data-1.4.0/libraries/projects-1.4.0-2018-12-22.csv'\n",
    "timestamp_format = 'YYYY-MM-DD HH:mm:ss z'\n",
    "\n",
    "dependencies = spark.read.csv(projects_path, header=True, schema=schemas.projects)\n",
    "dependencies = spark.read.csv(dependencies_path, header=True, schema=schemas.dependencies).drop('ID').select('Project ID', 'Dependency Project ID')\n",
    "    dependency_pairs = dependencies.where(F.col('Dependency Project ID').isNotNull()).limit(10)\n",
    "    pageranks = dependency_pairs \\\n",
    "        .select('Project ID') \\\n",
    "        .union(dependency_pairs\n",
    "               .select('Dependency Project ID')) \\\n",
    "        .distinct().alias('ID') \\\n",
    "        .withColumn('pagerank', F.lit(1))\n",
    "    dependency_counts = dependency_pairs.groupBy('Project ID').count()\n",
    "    # print(pageranks.count(), pageranks.take(5))\n",
    "    for it in range(2):\n",
    "        print(f'It {it}')\n",
    "        dependency_pairs = pageranks \\\n",
    "            .join(dependency_pairs, 'Project ID') \\\n",
    "            .join(dependency_counts, 'Project ID') \\\n",
    "            .withColumn('vote', F.col('pagerank') / F.col('count'))\\\n",
    "            .drop('pagerank', 'count')\n",
    "        vote_sums = dependency_pairs\\\n",
    "            .groupBy('Dependency Project ID')\\\n",
    "            .sum('vote')\\\n",
    "            .withColumnRenamed('sum(vote)', 'vote_sum')\n",
    "        # print(vote_sums.take(5))\n",
    "        pageranks = pageranks\\\n",
    "            .join(vote_sums, pageranks['Project ID'] == vote_sums['Dependency Project ID'], how='left')\\\n",
    "            .drop('pagerank')\\\n",
    "            .drop('Dependency Project ID')\\\n",
    "            .withColumn('pagerank', 1 + F.col('vote_sum'))\\\n",
    "            .drop('vote_sum') \\\n",
    "            .fillna({'pagerank': 1})\n",
    "        pageranks.show(10)\n",
    "    pageranks.join(projects, pageranks['Project ID']==projects['I'])"
   ]
  }
 ],
 "metadata": {
  "kernelspec": {
   "display_name": "Python 3",
   "language": "python",
   "name": "python3"
  },
  "language_info": {
   "codemirror_mode": {
    "name": "ipython",
    "version": 3
   },
   "file_extension": ".py",
   "mimetype": "text/x-python",
   "name": "python",
   "nbconvert_exporter": "python",
   "pygments_lexer": "ipython3",
   "version": "3.6.3"
  },
  "pycharm": {
   "stem_cell": {
    "cell_type": "raw",
    "metadata": {
     "collapsed": false
    },
    "source": []
   }
  }
 },
 "nbformat": 4,
 "nbformat_minor": 1
}
