{
 "cells": [
  {
   "cell_type": "code",
   "execution_count": 5,
   "metadata": {
    "pycharm": {
     "is_executing": false
    }
   },
   "outputs": [
    {
     "name": "stdout",
     "output_type": "stream",
     "text": [
      "[Row(Keyword='react', count=36788), Row(Keyword='api', count=24728), Row(Keyword='javascript', count=23676), Row(Keyword='library', count=21238), Row(Keyword='laravel', count=20495), Row(Keyword='framework', count=19733), Row(Keyword='angular', count=18990), Row(Keyword='plugin', count=18054), Row(Keyword='test', count=17573), Row(Keyword='css', count=16400)]\n"
     ]
    }
   ],
   "source": [
    "import findspark\n",
    "from pyspark.sql import SparkSession\n",
    "import schemas\n",
    "from test import most_used_tags\n",
    "\n",
    "findspark.init()\n",
    "\n",
    "\n",
    "def init_spark():\n",
    "    spark = SparkSession.builder.appName(\"HelloWorld\").getOrCreate()\n",
    "    sc = spark.sparkContext\n",
    "    return spark, sc\n",
    "\n",
    "\n",
    "def main():\n",
    "    spark, sc = init_spark()\n",
    "    timestamp_format = 'YYYY-MM-DD HH:mm:ss z'\n",
    "    dummy_switch = '-1.4.0-2018-12-22'\n",
    "    # dummy_switch = '_dummy'\n",
    "\n",
    "    projects_path = f'Libraries.io-open-data-1.4.0/libraries/projects{dummy_switch}.csv'\n",
    "    projects = spark.read.csv(projects_path, header=True, timestampFormat=timestamp_format,\n",
    "                          schema=schemas.projects)\n",
    "    most_used_tags(projects)\n",
    "    # nums = sc.parallelize([1, 2, 3, 4])\n",
    "    # print(nums.map(lambda x: x * x).collect())\n",
    "    # dist_file = sc.textFile('Libraries.io-open-data-1.4.0.tar.gz', 5000)\n",
    "    # size = dist_file.map(lambda s: len(s)).reduce(lambda a, b: a+b)\n",
    "    # print(size)\n",
    "\n",
    "\n",
    "if __name__ == '__main__':\n",
    "    main()\n",
    "\n"
   ]
  },
  {
   "cell_type": "code",
   "execution_count": 18,
   "metadata": {},
   "outputs": [
    {
     "ename": "SyntaxError",
     "evalue": "unexpected EOF while parsing (<ipython-input-18-6149e15cb2be>, line 23)",
     "output_type": "error",
     "traceback": [
      "\u001b[1;36m  File \u001b[1;32m\"<ipython-input-18-6149e15cb2be>\"\u001b[1;36m, line \u001b[1;32m23\u001b[0m\n\u001b[1;33m    pageranks.join(projects.select('ID', 'SourceRank', pageranks['Project ID']==projects['ID']).drop('ID').show(10)\u001b[0m\n\u001b[1;37m                                                                                                                   ^\u001b[0m\n\u001b[1;31mSyntaxError\u001b[0m\u001b[1;31m:\u001b[0m unexpected EOF while parsing\n"
     ]
    }
   ],
   "source": [
    "spark, sc = init_spark()\n",
    "import pyspark.sql.functions as F\n",
    "dependencies_path = f'Libraries.io-open-data-1.4.0/libraries/dependencies-1.4.0-2018-12-22.csv'\n",
    "projects_path = f'Libraries.io-open-data-1.4.0/libraries/projects-1.4.0-2018-12-22.csv'\n",
    "timestamp_format = 'YYYY-MM-DD HH:mm:ss z'\n",
    "\n",
    "dependencies = spark.read.csv(projects_path, header=True, schema=schemas.projects)\n",
    "dependencies = spark.read.csv(dependencies_path, header=True, schema=schemas.dependencies).drop('ID').select('Project ID', 'Dependency Project ID')\n",
    "dependency_pairs = dependencies.where(F.col('Dependency Project ID').isNotNull()).limit(10)\n",
    "pageranks = dependency_pairs \\\n",
    "    .select('Project ID') \\\n",
    "    .union(dependency_pairs\n",
    "           .select('Dependency Project ID')) \\\n",
    "    .distinct().alias('ID') \\\n",
    "    .withColumn('pagerank', F.lit(1))\n",
    "dependency_counts = dependency_pairs.groupBy('Project ID').count()\n",
    "# print(pageranks.count(), pageranks.take(5))\n",
    "for it in range(2):\n",
    "    print(f'It {it}')\n",
    "    dependency_pairs = pageranks \\\n",
    "        .join(dependency_pairs, 'Project ID') \\\n",
    "        .join(dependency_counts, 'Project ID') \\\n",
    "        .withColumn('vote', F.col('pagerank') / F.col('count'))\\\n",
    "        .drop('pagerank', 'count')\n",
    "    vote_sums = dependency_pairs\\\n",
    "        .groupBy('Dependency Project ID')\\\n",
    "        .sum('vote')\\\n",
    "        .withColumnRenamed('sum(vote)', 'vote_sum')\n",
    "    # print(vote_sums.take(5))\n",
    "    pageranks = pageranks\\\n",
    "        .join(vote_sums, pageranks['Project ID'] == vote_sums['Dependency Project ID'], how='left')\\\n",
    "        .drop('pagerank')\\\n",
    "        .drop('Dependency Project ID')\\\n",
    "        .withColumn('pagerank', 1 + F.col('vote_sum'))\\\n",
    "        .drop('vote_sum') \\\n",
    "        .fillna({'pagerank': 1})\n",
    "    pageranks.show(10)\n",
    "pageranks.join(projects.select('ID', 'SourceRank', pageranks['Project ID']==projects['ID']).drop('ID').show(10)"
   ]
  },
  {
   "cell_type": "code",
   "execution_count": null,
   "metadata": {},
   "outputs": [],
   "source": []
  }
 ],
 "metadata": {
  "kernelspec": {
   "display_name": "Python 3",
   "language": "python",
   "name": "python3"
  },
  "language_info": {
   "codemirror_mode": {
    "name": "ipython",
    "version": 3
   },
   "file_extension": ".py",
   "mimetype": "text/x-python",
   "name": "python",
   "nbconvert_exporter": "python",
   "pygments_lexer": "ipython3",
   "version": "3.6.3"
  },
  "pycharm": {
   "stem_cell": {
    "cell_type": "raw",
    "metadata": {
     "collapsed": false
    },
    "source": []
   }
  }
 },
 "nbformat": 4,
 "nbformat_minor": 1
}
