{
 "cells": [
  {
   "cell_type": "markdown",
   "metadata": {
    "pycharm": {
     "is_executing": false
    }
   },
   "source": [
    "# Libraries.io programming language exploration"
   ]
  },
  {
   "cell_type": "markdown",
   "metadata": {},
   "source": [
    "#### Prerequisites"
   ]
  },
  {
   "cell_type": "code",
   "execution_count": 1,
   "metadata": {
    "pycharm": {
     "is_executing": false
    }
   },
   "outputs": [],
   "source": [
    "import findspark\n",
    "from pyspark.sql import SparkSession\n",
    "from pyspark.sql import functions as F\n",
    "from pyspark.sql.functions import *\n",
    "from graphframes import *\n",
    "import pandas as pd\n",
    "import seaborn as sns\n",
    "import matplotlib.pyplot as plt\n",
    "\n",
    "\n",
    "import schemas\n",
    "\n",
    "timestamp_format = 'YYYY-MM-DD HH:mm:ss z'\n",
    "\n",
    "\n",
    "def init_spark():\n",
    "    spark = SparkSession.builder\\\n",
    "        .master('local[*]') \\\n",
    "        .appName('Libraries.io language exploration') \\\n",
    "        .config(\"spark.executor.memory\", \"8g\") \\\n",
    "        .config(\"spark.driver.memory\", \"2g\") \\\n",
    "        .config(\"spark.local.dir\", \"./tmp\") \\\n",
    "        .getOrCreate()\n",
    "    sc = spark.sparkContext\n",
    "    return spark, sc\n",
    "\n",
    "spark, sc = init_spark()\n",
    "languages = ['Java', 'Python', 'C#', 'Objective-C', 'C++', 'Ruby', 'PHP', 'JavaScript']"
   ]
  },
  {
   "cell_type": "markdown",
   "metadata": {},
   "source": [
    "### Data extraction\n",
    "\n",
    "Let's extract now the data for plotting the evolution of data.\n",
    "\n",
    "We'll extract for each language and year the number of repositories that have that specific language.\n",
    "\n",
    "So one row of our data frame will have:\n",
    "* language\n",
    "* year\n",
    "* number of repositories in that year associated with the language"
   ]
  },
  {
   "cell_type": "code",
   "execution_count": null,
   "metadata": {
    "pycharm": {
     "is_executing": true
    }
   },
   "outputs": [],
   "source": [
    "\n",
    "projects_path = f'data/projects-1.4.0-2018-12-22.csv'\n",
    "dependencies_path = f'data/dependencies-1.4.0-2018-12-22.csv'\n",
    "pwrf_path = f'data/projects_with_repository_fields-1.4.0-2018-12-22.csv'\n",
    "projects = spark.read.csv(projects_path, header=True, timestampFormat=timestamp_format,\n",
    "                          schema=schemas.projects)\n",
    "vertices = projects.select('ID', 'Name').withColumnRenamed('ID', 'id')\n",
    "dependencies = spark.read.csv(dependencies_path, header=True, schema=schemas.dependencies).drop('ID').select('Project ID', 'Dependency Project ID')\n",
    "dependency_pairs = dependencies.where(F.col('Dependency Project ID').isNotNull())\\\n",
    "                    .withColumnRenamed('Project ID', 'src')\\\n",
    "                    .withColumnRenamed('Dependency Project ID', 'dst')\n",
    "graph = GraphFrame(vertices, dependency_pairs)\n",
    "print(graph.edges.count(), graph.vertices.count())"
   ]
  },
  {
   "cell_type": "markdown",
   "metadata": {},
   "source": [
    "### Correlation and covariance between PageRank and SourceRank"
   ]
  },
  {
   "cell_type": "code",
   "execution_count": 10,
   "metadata": {
    "pycharm": {
     "is_executing": false
    }
   },
   "outputs": [
    {
     "name": "stdout",
     "output_type": "stream",
     "text": [
      "Row(pagerank=None, SourceRank=None)\n",
      "Correlation: nan\n",
      "Covariance: 0.0\n"
     ]
    }
   ],
   "source": [
    "pagerank_and_sourcerank = spark.read.csv('results/pageranks_sourceranks.txt', header=True, inferSchema=True).drop('_c0')\n",
    "print('Correlation:', pagerank_and_sourcerank.stat.corr('pagerank', 'SourceRank'))\n",
    "print('Covariance:', pagerank_and_sourcerank.stat.cov('pagerank', 'SourceRank'))"
   ]
  }
 ],
 "metadata": {
  "kernelspec": {
   "display_name": "Python 3",
   "language": "python",
   "name": "python3"
  },
  "language_info": {
   "codemirror_mode": {
    "name": "ipython",
    "version": 3
   },
   "file_extension": ".py",
   "mimetype": "text/x-python",
   "name": "python",
   "nbconvert_exporter": "python",
   "pygments_lexer": "ipython3",
   "version": "3.6.3"
  },
  "pycharm": {
   "stem_cell": {
    "cell_type": "raw",
    "metadata": {
     "collapsed": false
    },
    "source": []
   }
  }
 },
 "nbformat": 4,
 "nbformat_minor": 1
}
