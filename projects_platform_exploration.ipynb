{
 "cells": [
  {
   "cell_type": "markdown",
   "metadata": {},
   "source": [
    "# Projects per platform exploration\n"
   ]
  },
  {
   "cell_type": "markdown",
   "metadata": {},
   "source": [
    "##### Prerequiestes"
   ]
  },
  {
   "cell_type": "code",
   "execution_count": 1,
   "metadata": {},
   "outputs": [],
   "source": [
    "import findspark\n",
    "from pyspark.sql import SparkSession\n",
    "from pyspark.sql import functions as F\n",
    "from pyspark.sql.functions import *\n",
    "import pandas as pd\n",
    "import seaborn as sns\n",
    "import matplotlib.pyplot as plt\n",
    "\n",
    "from pyspark.sql.window import Window\n",
    "\n",
    "import schemas\n",
    "\n",
    "timestamp_format = 'YYYY-MM-DD HH:mm:ss z'\n",
    "\n",
    "def init_spark():\n",
    "    spark = SparkSession.builder\\\n",
    "        .master('local[*]') \\\n",
    "        .appName('Libraries.io language exploration') \\\n",
    "        .config(\"spark.executor.memory\", \"8g\") \\\n",
    "        .config(\"spark.driver.memory\", \"2g\") \\\n",
    "        .config(\"spark.local.dir\", \"./tmp\") \\\n",
    "        .getOrCreate()\n",
    "    sc = spark.sparkContext\n",
    "    return spark, sc\n",
    "\n",
    "spark, sc = init_spark()"
   ]
  },
  {
   "cell_type": "markdown",
   "metadata": {},
   "source": [
    "### Data extraction"
   ]
  },
  {
   "cell_type": "markdown",
   "metadata": {},
   "source": [
    "Let's get the top 5 package managing platform s"
   ]
  },
  {
   "cell_type": "code",
   "execution_count": 2,
   "metadata": {},
   "outputs": [
    {
     "data": {
      "text/html": [
       "<div>\n",
       "<style scoped>\n",
       "    .dataframe tbody tr th:only-of-type {\n",
       "        vertical-align: middle;\n",
       "    }\n",
       "\n",
       "    .dataframe tbody tr th {\n",
       "        vertical-align: top;\n",
       "    }\n",
       "\n",
       "    .dataframe thead th {\n",
       "        text-align: right;\n",
       "    }\n",
       "</style>\n",
       "<table border=\"1\" class=\"dataframe\">\n",
       "  <thead>\n",
       "    <tr style=\"text-align: right;\">\n",
       "      <th></th>\n",
       "      <th>Platform</th>\n",
       "      <th>count</th>\n",
       "    </tr>\n",
       "  </thead>\n",
       "  <tbody>\n",
       "    <tr>\n",
       "      <th>0</th>\n",
       "      <td>Go</td>\n",
       "      <td>1132134</td>\n",
       "    </tr>\n",
       "    <tr>\n",
       "      <th>1</th>\n",
       "      <td>NPM</td>\n",
       "      <td>926196</td>\n",
       "    </tr>\n",
       "    <tr>\n",
       "      <th>2</th>\n",
       "      <td>Packagist</td>\n",
       "      <td>251111</td>\n",
       "    </tr>\n",
       "    <tr>\n",
       "      <th>3</th>\n",
       "      <td>Maven</td>\n",
       "      <td>198088</td>\n",
       "    </tr>\n",
       "    <tr>\n",
       "      <th>4</th>\n",
       "      <td>Pypi</td>\n",
       "      <td>172411</td>\n",
       "    </tr>\n",
       "  </tbody>\n",
       "</table>\n",
       "</div>"
      ],
      "text/plain": [
       "    Platform    count\n",
       "0         Go  1132134\n",
       "1        NPM   926196\n",
       "2  Packagist   251111\n",
       "3      Maven   198088\n",
       "4       Pypi   172411"
      ]
     },
     "execution_count": 2,
     "metadata": {},
     "output_type": "execute_result"
    }
   ],
   "source": [
    "projects = spark.read.csv(\n",
    "    \"data/projects-1.4.0-2018-12-22.csv\", \n",
    "    header=True, \n",
    "    timestampFormat=timestamp_format,\n",
    "    schema=schemas.projects\n",
    ").fillna({'SourceRank': 0})\n",
    "\n",
    "top_platforms = projects.select('Platform', 'Name') \\\n",
    "    .groupby('Platform') \\\n",
    "    .count() \\\n",
    "    .orderBy(desc('count')) \\\n",
    "    .limit(5)\n",
    "\n",
    "top_platforms.toPandas()"
   ]
  },
  {
   "cell_type": "markdown",
   "metadata": {},
   "source": [
    "Let's extract now the top projects per platform based on source rank provided by the dataset."
   ]
  },
  {
   "cell_type": "code",
   "execution_count": 3,
   "metadata": {},
   "outputs": [
    {
     "data": {
      "text/plain": [
       "[('Maven',\n",
       "  ['org.apache.hbase:hbase',\n",
       "   'com.spotify:styx-common',\n",
       "   'com.spotify:styx-test']),\n",
       " ('NPM', ['nofactor', 'brain-games-by-peacelovecookies', 'extra-googletts']),\n",
       " ('Packagist', ['phpunit/phpunit', 'doctrine/orm', 'monolog/monolog']),\n",
       " ('Pypi', ['modelforge', 'requests', 'Django']),\n",
       " ('Go',\n",
       "  ['github.com/docker/docker/pkg/mount',\n",
       "   'github.com/Sirupsen/logrus',\n",
       "   'github.com/docker/docker/utils'])]"
      ]
     },
     "execution_count": 3,
     "metadata": {},
     "output_type": "execute_result"
    }
   ],
   "source": [
    "top_projects_per_platform = projects.select('Platform', 'Name', 'SourceRank') \\\n",
    "    .join(top_platforms, top_platforms['Platform'] == projects['Platform']) \\\n",
    "    .drop(projects['Platform']) \\\n",
    "    .drop(top_platforms['count']) \\\n",
    "    .orderBy(desc('SourceRank')) \\\n",
    "    .groupBy('Platform') \\\n",
    "    .agg(F.collect_list('Name')) \\\n",
    "    .rdd.map(list) \\\n",
    "    .map(lambda x: (x[0], x[1][:3])) \\\n",
    "    .collect()\n",
    "\n",
    "top_projects_per_platform"
   ]
  },
  {
   "cell_type": "code",
   "execution_count": null,
   "metadata": {},
   "outputs": [],
   "source": [
    "data_frame_list = []\n",
    "for x in top_projects_per_platform:\n",
    "    for name in x[1]:\n",
    "        row = projects.select('Platform','Name', 'SourceRank') \\\n",
    "            .where(projects['Name'] == name) \\\n",
    "            .where(projects['Platform'] == x[0]) \\\n",
    "            .toPandas()\n",
    "        data_frame_list.append(row)\n",
    "        \n",
    "df = pd.concat(data_frame_list)\n",
    "df"
   ]
  },
  {
   "cell_type": "markdown",
   "metadata": {},
   "source": [
    "### Plot the data now"
   ]
  },
  {
   "cell_type": "code",
   "execution_count": null,
   "metadata": {},
   "outputs": [],
   "source": [
    "plt.figure(figsize=(50, 20))\n",
    "for platform in top_platforms.select('Platform').rdd.map(list).collect():\n",
    "    platform = platform[0]\n",
    "    \n",
    "    values = df.loc[df['Platform'] == platform]['SourceRank']\n",
    "    names = df.loc[df['Platform'] == platform]['Name']\n",
    "    names = [name.split(\"/\")[-1] for name in names]\n",
    "    \n",
    "    plt.bar(names, values, label=platform)\n",
    "    \n",
    "plt.ylabel('Source Rank', fontsize=40)\n",
    "plt.xlabel('Projects', fontsize=40)\n",
    "\n",
    "plt.title(\"Most ranked project grouped by platform\", fontsize=40)\n",
    "    \n",
    "plt.xticks(fontsize=40, rotation=90)\n",
    "plt.yticks(fontsize=40)\n",
    "plt.legend(prop={'size': 40})\n",
    "plt.show()\n",
    "\n",
    "    "
   ]
  },
  {
   "cell_type": "code",
   "execution_count": null,
   "metadata": {},
   "outputs": [],
   "source": []
  }
 ],
 "metadata": {
  "kernelspec": {
   "display_name": "Python 3",
   "language": "python",
   "name": "python3"
  },
  "language_info": {
   "codemirror_mode": {
    "name": "ipython",
    "version": 3
   },
   "file_extension": ".py",
   "mimetype": "text/x-python",
   "name": "python",
   "nbconvert_exporter": "python",
   "pygments_lexer": "ipython3",
   "version": "3.7.6"
  }
 },
 "nbformat": 4,
 "nbformat_minor": 2
}
