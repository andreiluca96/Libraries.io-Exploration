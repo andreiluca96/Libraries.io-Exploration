{
 "cells": [
  {
   "cell_type": "code",
   "execution_count": 2,
   "metadata": {
    "pycharm": {
     "is_executing": false
    }
   },
   "outputs": [],
   "source": [
    "import findspark\n",
    "from pyspark.sql import SparkSession\n",
    "from pyspark.sql import functions as F\n",
    "from pyspark.sql.functions import *\n",
    "import pandas as pd\n",
    "import seaborn as sns\n",
    "import matplotlib.pyplot as plt\n",
    "from pyspark.sql.functions import udf\n",
    "from pyspark.sql.types import *\n",
    "import re\n",
    "from pyspark.ml.feature import NGram\n",
    "\n",
    "import schemas\n",
    "\n",
    "timestamp_format = 'YYYY-MM-DD HH:mm:ss z'\n",
    "\n",
    "\n",
    "def init_spark():\n",
    "    spark = SparkSession.builder\\\n",
    "        .master('local[*]') \\\n",
    "        .appName('Libraries.io project description N-grams') \\\n",
    "        .config(\"spark.executor.memory\", \"8g\") \\\n",
    "        .config(\"spark.driver.memory\", \"2g\") \\\n",
    "        .config(\"spark.local.dir\", \"./tmp\") \\\n",
    "        .getOrCreate()\n",
    "    sc = spark.sparkContext\n",
    "    return spark, sc\n",
    "\n",
    "spark, sc = init_spark()"
   ]
  },
  {
   "cell_type": "markdown",
   "metadata": {},
   "source": [
    "### Prepare data"
   ]
  },
  {
   "cell_type": "code",
   "execution_count": 4,
   "metadata": {
    "pycharm": {
     "is_executing": false
    }
   },
   "outputs": [],
   "source": [
    "projects = spark.read.csv(\n",
    "    \"data/projects-1.4.0-2018-12-22.csv\", \n",
    "    header=True, \n",
    "    timestampFormat=timestamp_format,\n",
    "    schema=schemas.projects\n",
    ").fillna({'SourceRank': 0})\n",
    "\n",
    "def regex_filter(words):\n",
    "    return [word for word in words if word.isalpha()]\n",
    "    \n",
    "filter_udf = udf(regex_filter, ArrayType(StringType()))\n",
    "\n",
    "descriptions = projects.select(lower(col('Description')).alias('Description')) \\\n",
    "    .withColumn('word', split('Description', ' ')) \\\n",
    "    .where(col('word').isNotNull()) \\\n",
    "    .drop('Description') \\\n",
    "    .withColumn(\"words\", filter_udf(col('word'))) \\\n",
    "    .drop('word') \\"
   ]
  },
  {
   "cell_type": "markdown",
   "metadata": {},
   "source": [
    "### N-Grams (2-grams, 3-grams and 5-grams)"
   ]
  },
  {
   "cell_type": "code",
   "execution_count": 5,
   "metadata": {
    "pycharm": {
     "is_executing": false
    }
   },
   "outputs": [
    {
     "data": {
      "text/plain": [
       "[Row(nGram='is a', count=131020),\n",
       " Row(nGram='for the', count=111381),\n",
       " Row(nGram='library for', count=80193),\n",
       " Row(nGram='docker the', count=79355),\n",
       " Row(nGram='the application', count=77737),\n",
       " Row(nGram='container engine', count=77395),\n",
       " Row(nGram='application container', count=76877),\n",
       " Row(nGram='cluster manager', count=55977),\n",
       " Row(nGram='of the', count=55865),\n",
       " Row(nGram='container cluster', count=55783),\n",
       " Row(nGram='in go', count=54354),\n",
       " Row(nGram='the go', count=53839),\n",
       " Row(nGram='a simple', count=53452),\n",
       " Row(nGram='from google', count=49649),\n",
       " Row(nGram='manager from', count=48903),\n",
       " Row(nGram='go programming', count=48215),\n",
       " Row(nGram='for go', count=44926),\n",
       " Row(nGram='written in', count=41507),\n",
       " Row(nGram='phone number', count=40673),\n",
       " Row(nGram='tool for', count=36985),\n",
       " Row(nGram='based on', count=34899),\n",
       " Row(nGram='framework for', count=34377),\n",
       " Row(nGram='sdk for', count=33754),\n",
       " Row(nGram='to the', count=32916),\n",
       " Row(nGram='and management', count=32857)]"
      ]
     },
     "execution_count": 5,
     "metadata": {},
     "output_type": "execute_result"
    }
   ],
   "source": [
    "ngram = NGram(n=2, inputCol=\"words\", outputCol=\"nGrams\")\n",
    "ngram.transform(descriptions) \\\n",
    "    .select(\"nGrams\") \\\n",
    "    .withColumn(\"nGram\", explode(\"nGrams\")) \\\n",
    "    .drop(\"nGrams\") \\\n",
    "    .groupBy(\"nGram\") \\\n",
    "    .count() \\\n",
    "    .orderBy(desc(\"count\")) \\\n",
    "    .limit(25) \\\n",
    "    .collect()"
   ]
  },
  {
   "cell_type": "code",
   "execution_count": 6,
   "metadata": {
    "pycharm": {
     "is_executing": false
    }
   },
   "outputs": [
    {
     "data": {
      "text/plain": [
       "[Row(nGram='application container engine', count=76799),\n",
       " Row(nGram='the application container', count=76796),\n",
       " Row(nGram='docker the application', count=76773),\n",
       " Row(nGram='container cluster manager', count=55777),\n",
       " Row(nGram='cluster manager from', count=48884),\n",
       " Row(nGram='manager from google', count=48884),\n",
       " Row(nGram='the go programming', count=43848),\n",
       " Row(nGram='for the go', count=36481),\n",
       " Row(nGram='container scheduling and', count=32016),\n",
       " Row(nGram='scheduling and management', count=31975),\n",
       " Row(nGram='a tool for', count=22622),\n",
       " Row(nGram='sdk for the', count=21430),\n",
       " Row(nGram='aws sdk for', count=21151),\n",
       " Row(nGram='is a tool', count=20272),\n",
       " Row(nGram='written in go', count=20243),\n",
       " Row(nGram='this is a', count=17157),\n",
       " Row(nGram='web framework for', count=13494),\n",
       " Row(nGram='juju is devops', count=13107),\n",
       " Row(nGram='is devops distilled', count=13099),\n",
       " Row(nGram='go programming language', count=12784),\n",
       " Row(nGram='implementation of the', count=12206),\n",
       " Row(nGram='allows you to', count=11318),\n",
       " Row(nGram='support phone number', count=11157),\n",
       " Row(nGram='framework for the', count=11071),\n",
       " Row(nGram='tool for and', count=10519)]"
      ]
     },
     "execution_count": 6,
     "metadata": {},
     "output_type": "execute_result"
    }
   ],
   "source": [
    "ngram = NGram(n=3, inputCol=\"words\", outputCol=\"nGrams\")\n",
    "ngram.transform(descriptions) \\\n",
    "    .select(\"nGrams\") \\\n",
    "    .withColumn(\"nGram\", explode(\"nGrams\")) \\\n",
    "    .drop(\"nGrams\") \\\n",
    "    .groupBy(\"nGram\") \\\n",
    "    .count() \\\n",
    "    .orderBy(desc(\"count\")) \\\n",
    "    .limit(25) \\\n",
    "    .collect()"
   ]
  },
  {
   "cell_type": "code",
   "execution_count": 7,
   "metadata": {
    "pycharm": {
     "is_executing": false
    }
   },
   "outputs": [
    {
     "data": {
      "text/plain": [
       "[Row(nGram='docker the application container engine', count=76773),\n",
       " Row(nGram='container cluster manager from google', count=48884),\n",
       " Row(nGram='sdk for the go programming', count=20522),\n",
       " Row(nGram='aws sdk for the go', count=20389),\n",
       " Row(nGram='is a tool for and', count=10467),\n",
       " Row(nGram='terraform is a tool for', count=10464),\n",
       " Row(nGram='and combining infrastructure safely and', count=10463),\n",
       " Row(nGram='for and combining infrastructure safely', count=10463),\n",
       " Row(nGram='tool for and combining infrastructure', count=10463),\n",
       " Row(nGram='a tool for and combining', count=10463),\n",
       " Row(nGram='web framework for the go', count=10354),\n",
       " Row(nGram='framework for the go programming', count=8519),\n",
       " Row(nGram='beego is an web framework', count=8357),\n",
       " Row(nGram='an web framework for the', count=8349),\n",
       " Row(nGram='is an web framework for', count=8349),\n",
       " Row(nGram='store for the most critical', count=7394),\n",
       " Row(nGram='most critical data of a', count=7394),\n",
       " Row(nGram='for the most critical data', count=7394),\n",
       " Row(nGram='critical data of a distributed', count=7394),\n",
       " Row(nGram='the most critical data of', count=7394),\n",
       " Row(nGram='distributed reliable store for the', count=7394),\n",
       " Row(nGram='reliable store for the most', count=7394),\n",
       " Row(nGram='data of a distributed system', count=7394),\n",
       " Row(nGram='application logging utilityawesome application logging', count=7376),\n",
       " Row(nGram='utilityawesome application logging utilityawesome application', count=7376)]"
      ]
     },
     "execution_count": 7,
     "metadata": {},
     "output_type": "execute_result"
    }
   ],
   "source": [
    "ngram = NGram(n=5, inputCol=\"words\", outputCol=\"nGrams\")\n",
    "ngram.transform(descriptions) \\\n",
    "    .select(\"nGrams\") \\\n",
    "    .withColumn(\"nGram\", explode(\"nGrams\")) \\\n",
    "    .drop(\"nGrams\") \\\n",
    "    .groupBy(\"nGram\") \\\n",
    "    .count() \\\n",
    "    .orderBy(desc(\"count\")) \\\n",
    "    .limit(25) \\\n",
    "    .collect()"
   ]
  }
 ],
 "metadata": {
  "kernelspec": {
   "display_name": "Python 3",
   "language": "python",
   "name": "python3"
  },
  "language_info": {
   "codemirror_mode": {
    "name": "ipython",
    "version": 3
   },
   "file_extension": ".py",
   "mimetype": "text/x-python",
   "name": "python",
   "nbconvert_exporter": "python",
   "pygments_lexer": "ipython3",
   "version": "3.6.3"
  }
 },
 "nbformat": 4,
 "nbformat_minor": 2
}
